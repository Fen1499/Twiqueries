{
  "nbformat": 4,
  "nbformat_minor": 0,
  "metadata": {
    "colab": {
      "name": "Twiqueries.ipynb",
      "provenance": [],
      "collapsed_sections": []
    },
    "kernelspec": {
      "name": "python3",
      "display_name": "Python 3"
    }
  },
  "cells": [
    {
      "cell_type": "markdown",
      "metadata": {
        "id": "TraKEH57H7vM",
        "colab_type": "text"
      },
      "source": [
        "**O código abaixo importa as bibliotecas nescessarias e define a função mine()**"
      ]
    },
    {
      "cell_type": "code",
      "metadata": {
        "id": "T90s7SooHDjW",
        "colab_type": "code",
        "colab": {}
      },
      "source": [
        "import requests\n",
        "import tarfile\n",
        "import datetime\n",
        "from sys import argv\n",
        "from time import sleep\n",
        "from google.colab import files\n"
      ],
      "execution_count": 0,
      "outputs": []
    },
    {
      "cell_type": "code",
      "metadata": {
        "id": "k6vImFieADuO",
        "colab_type": "code",
        "colab": {}
      },
      "source": [
        "#A função mine é responsavel por fazer uma requisição a API do Twitter\n",
        "#e salvar os dados recebidos em um arquivo\n",
        "def mine(name, label, startDate, endDate, TOKEN, ):\n",
        "        f = open(name+'.json','wt')\n",
        "        #Aqui pode ser nescessario mudar de 30day para fullarchive\n",
        "        response = requests.get('https://api.twitter.com/1.1/tweets/search/30day/'+label+'.json',\n",
        "            params={'query':'lang:pt place_country:br',\n",
        "                    'fromDate':startDate,\n",
        "                    'toDate':endDate\n",
        "                },\n",
        "            headers={'Authorization':'bearer {}'.format(TOKEN)})\n",
        "        f.write(response.text)\n",
        "        #files.download(name+'.json')\n",
        "        return response.status_code"
      ],
      "execution_count": 0,
      "outputs": []
    },
    {
      "cell_type": "markdown",
      "metadata": {
        "id": "d8pUTxpjJp5s",
        "colab_type": "text"
      },
      "source": [
        "Coloque a sua **API_KEY** e **API_SECRET** no código abaixo para receber a acess_token, que sera usada para fazer as requisições"
      ]
    },
    {
      "cell_type": "code",
      "metadata": {
        "id": "p5gtsDOnA8e4",
        "colab_type": "code",
        "outputId": "bc668071-a304-4e42-a545-77e51b0acd8e",
        "colab": {
          "base_uri": "https://localhost:8080/",
          "height": 35
        }
      },
      "source": [
        "#Esta função retorna o token que sera usado para fazer as requisições\n",
        "def getToken():\n",
        "  API_KEY = 'g1b1kskNcopO7S1T1BkHkXIWF'   #'SUA KEY AQUI'\n",
        "  API_SECRET = 'FDviS5EFqSbvzfBKazvPDnRPYs4t2jpiRwdQfcX6wEQIExdlgP'   #'SUA SECRET KEY AQUI'\n",
        "\n",
        "  response = requests.post('https://api.twitter.com/oauth2/token',\n",
        "                          auth=(API_KEY,API_SECRET),\n",
        "                          params={'grant_type':'client_credentials'})\n",
        "  return response.json()[\"access_token\"]\n",
        "\n",
        "print(getToken())"
      ],
      "execution_count": 3,
      "outputs": [
        {
          "output_type": "stream",
          "text": [
            "AAAAAAAAAAAAAAAAAAAAAP8v%2FQAAAAAAWU61fPOObPcrLSPTZCvounTlirE%3DV8w6wmGQnepTu5YTVGdWRljmoGmf680MBGZyPMSzC8dpaLW45P\n"
          ],
          "name": "stdout"
        }
      ]
    },
    {
      "cell_type": "markdown",
      "metadata": {
        "id": "YAcXKy_WIsJU",
        "colab_type": "text"
      },
      "source": [
        "Neste bloco definimos a data de inicio e a função parseTime, que transforma o formato das datas.\n",
        "\n",
        "Ex:\n",
        "\n",
        "```\n",
        ">>>data_inicio\n",
        "2019-08-01 12:00:00 //Permite operações de tempo\n",
        ">>>parseTime(data_incio)\n",
        "20190801120000  //Formato aceito pela API\n",
        "```\n",
        "\n",
        "\n",
        "\n",
        "\n",
        "\n"
      ]
    },
    {
      "cell_type": "code",
      "metadata": {
        "id": "-Mj6inIOIpOH",
        "colab_type": "code",
        "outputId": "bf3c4301-c320-4bf8-99a2-a5baff0bd31e",
        "colab": {
          "base_uri": "https://localhost:8080/",
          "height": 53
        }
      },
      "source": [
        "  ano = 2019#ano\n",
        "  mes = 10#mes\n",
        "  dia = 3#dia\n",
        "  hora = 12#hora\n",
        "  minuto = 00#minutos\n",
        "  data_inicio = datetime.datetime(ano,mes,dia,hora,minuto)\n",
        "  def parseTime(data_inicio):\n",
        "    return data_inicio.isoformat().translate({ord('-'):None, ord(':'):None, ord('T'):None})[0:-2]\n",
        "  print(data_inicio)\n",
        "  print(parseTime(data_inicio))"
      ],
      "execution_count": 41,
      "outputs": [
        {
          "output_type": "stream",
          "text": [
            "2019-10-03 12:00:00\n",
            "201910031200\n"
          ],
          "name": "stdout"
        }
      ]
    },
    {
      "cell_type": "markdown",
      "metadata": {
        "id": "FWfw1qNLJ4Vx",
        "colab_type": "text"
      },
      "source": [
        "Aqui é onde é feita a requisição, "
      ]
    },
    {
      "cell_type": "code",
      "metadata": {
        "id": "LpYIyNU2AQBz",
        "colab_type": "code",
        "colab": {
          "base_uri": "https://localhost:8080/",
          "height": 126
        },
        "outputId": "fba393a2-046f-4633-dae3-dba29ce3f12a"
      },
      "source": [
        "TOKEN = getToken()\n",
        "name = 'arq'\n",
        "label = 'Sample30'\n",
        "startDate = parseTime(data_inicio) #AAAAMMDDhhmm\n",
        "\n",
        "#Cria o arquivo tar que vai conter todos os tweets\n",
        "tf = tarfile.open(\"tweets.tar\",\"w\")\n",
        "\n",
        "#O for abaixo faz uma requisição a cada iteração, e aumenta \n",
        "#a hora do startDate em 1 hora. Mude o valor no range e defina\n",
        "#um startDate valido.\n",
        "for aux in range(2):\n",
        "    endDate = parseTime(data_inicio + datetime.timedelta(hours=1+aux))\n",
        "    ret = mine(name + str(aux), label, startDate, endDate, TOKEN)\n",
        "    tf.add(name+str(aux)+\".json\")\n",
        "    startDate = endDate\n",
        "    print(ret)\n",
        "    sleep(1)\n",
        "\n",
        "tf.close()"
      ],
      "execution_count": 43,
      "outputs": [
        {
          "output_type": "stream",
          "text": [
            "201910031200\n",
            "201910031300\n",
            "200\n",
            "201910031300\n",
            "201910031400\n",
            "200\n"
          ],
          "name": "stdout"
        }
      ]
    },
    {
      "cell_type": "code",
      "metadata": {
        "id": "4uUPWtRcKxfA",
        "colab_type": "code",
        "colab": {}
      },
      "source": [
        "TOKEN = getToken()\n",
        "name = 'agosto12'\n",
        "label = 'UselessLabel'\n",
        "startDate = data_inicio#'AAAAMMDDHHmm'\n",
        "\n",
        "#Cria o arquivo tar que vai conter todos os tweets\n",
        "tf = tarfile.open(\"tweets.tar\",\"w\")\n",
        "\n",
        "#O for abaixo faz uma requisição a cada iteração, e aumenta \n",
        "#o dia do startDate em 1 dia. Mude o valor no range e defina\n",
        "#um startDate valido.\n",
        "for aux in range(30):\n",
        "    endDate = parseTime(data_inicio + datetime.deltatime(days=1+aux))\n",
        "    ret = mine(name + str(aux), label, startDate, endDate, TOKEN)\n",
        "    tf.add(name+str(aux)+\".json\")\n",
        "    startDate = endDate\n",
        "    print(ret)\n",
        "    sleep(1)\n",
        "\n",
        "tf.close()\n",
        "\n"
      ],
      "execution_count": 0,
      "outputs": []
    }
  ]
}